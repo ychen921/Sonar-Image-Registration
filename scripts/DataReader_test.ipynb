{
 "cells": [
  {
   "cell_type": "code",
   "execution_count": 8,
   "metadata": {},
   "outputs": [],
   "source": [
    "from PIL import Image\n",
    "from torch.utils.data import Dataset, DataLoader\n",
    "import torchvision.transforms as transforms\n",
    "import matplotlib.pyplot as plt\n",
    "import sys\n",
    "sys.dont_write_bytecode = True\n"
   ]
  },
  {
   "cell_type": "code",
   "execution_count": 9,
   "metadata": {},
   "outputs": [],
   "source": [
    "data_dir = r\"/home/ychen921/808E/final_project/Dataset/Set1\"\n",
    "\n",
    "data_transform = transforms.Compose([\n",
    "        transforms.Resize((256, 256)),  # Resize images to 256x256\n",
    "        transforms.ToTensor()            # Convert images to tensors\n",
    "    ])"
   ]
  },
  {
   "cell_type": "code",
   "execution_count": 10,
   "metadata": {},
   "outputs": [],
   "source": [
    "def show_image_pair(image1, image2):\n",
    "    fig, axs = plt.subplots(1, 2, figsize=(10, 5))\n",
    "    axs[0].imshow(image1.permute(1, 2, 0))  # Convert tensor back to PIL Image format for display\n",
    "    axs[0].axis('off')\n",
    "    axs[0].set_title('Fixed')\n",
    "    axs[1].imshow(image2.permute(1, 2, 0))\n",
    "    axs[1].axis('off')\n",
    "    axs[1].set_title('Moving')\n",
    "    plt.show()"
   ]
  },
  {
   "cell_type": "code",
   "execution_count": 12,
   "metadata": {},
   "outputs": [],
   "source": [
    "from DataReader import SonarPairDataset\n",
    "\n",
    "image_pair_dataset = SonarPairDataset(data_folder=data_dir, transform=data_transform)\n",
    "batch_size = 10\n",
    "data_loader = DataLoader(image_pair_dataset, batch_size=batch_size, shuffle=False)\n",
    "\n",
    "for batch in data_loader:\n",
    "    images1, images2 = batch\n",
    "    # for i in range(batch_size):\n",
    "    #     show_image_pair(images1[i], images2[i])\n",
    "    # break"
   ]
  }
 ],
 "metadata": {
  "kernelspec": {
   "display_name": "base",
   "language": "python",
   "name": "python3"
  },
  "language_info": {
   "codemirror_mode": {
    "name": "ipython",
    "version": 3
   },
   "file_extension": ".py",
   "mimetype": "text/x-python",
   "name": "python",
   "nbconvert_exporter": "python",
   "pygments_lexer": "ipython3",
   "version": "3.9.19"
  }
 },
 "nbformat": 4,
 "nbformat_minor": 2
}
